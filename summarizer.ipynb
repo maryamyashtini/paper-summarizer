{
 "cells": [
  {
   "cell_type": "code",
   "execution_count": 1,
   "id": "90b60569-375e-4305-b7c0-cb631b884cf5",
   "metadata": {},
   "outputs": [],
   "source": [
    "import os\n",
    "import requests\n",
    "import openai\n",
    "from openai import OpenAI\n",
    "from dotenv import load_dotenv\n",
    "from bs4 import BeautifulSoup"
   ]
  },
  {
   "cell_type": "markdown",
   "id": "eef9ceaa-d143-4029-94fd-2ee8abcb1030",
   "metadata": {},
   "source": [
    "### Connect to OpenAI"
   ]
  },
  {
   "cell_type": "code",
   "execution_count": 2,
   "id": "5b644f97-c91a-4d08-ba82-18358404d270",
   "metadata": {},
   "outputs": [
    {
     "name": "stdout",
     "output_type": "stream",
     "text": [
      "API key found and looks good so far!\n"
     ]
    }
   ],
   "source": [
    "load_dotenv(override = True)\n",
    "api_key= os.getenv('OPENAI_API_KEY')\n",
    "\n",
    "# Check the key\n",
    "\n",
    "if not api_key:\n",
    "    print(\"No API key was found - please head over to the troubleshooting notebook in this folder to identify & fix!\")\n",
    "elif not api_key.startswith(\"sk-proj-\"):\n",
    "    print(\"An API key was found, but it doesn't start sk-proj-; please check you're using the right key - see troubleshooting notebook\")\n",
    "elif api_key.strip() != api_key:\n",
    "    print(\"An API key was found, but it looks like it might have space or tab characters at the start or end - please remove them - see troubleshooting notebook\")\n",
    "else:\n",
    "    print(\"API key found and looks good so far!\")\n"
   ]
  },
  {
   "cell_type": "markdown",
   "id": "4d0aad0a-3da1-42af-bf64-280c3f451815",
   "metadata": {},
   "source": [
    "### Create a Clinet"
   ]
  },
  {
   "cell_type": "code",
   "execution_count": 3,
   "id": "45ebc642-97cf-4272-841d-dac4dddadb67",
   "metadata": {},
   "outputs": [],
   "source": [
    "client = OpenAI()"
   ]
  },
  {
   "cell_type": "code",
   "execution_count": 4,
   "id": "dc8d4d09-7160-4072-9f0f-5f9cb5be77af",
   "metadata": {},
   "outputs": [
    {
     "name": "stdout",
     "output_type": "stream",
     "text": [
      "That sounds great! Frontier models can be really useful for various applications, whether it's in economics, finance, machine learning, or any other field. How can I assist you with it today? Are you looking to understand how to use a specific frontier model, or do you have a particular application in mind?\n"
     ]
    }
   ],
   "source": [
    "message = \"Hey! I am so excited to use a Frontier Model to help me\"\n",
    "response = client.chat.completions.create(\n",
    "    model = \"gpt-4o-mini\",\n",
    "    messages = [{\"role\": \"user\", \"content\": message}]\n",
    ")\n",
    "\n",
    "print(response.choices[0].message.content)\n"
   ]
  },
  {
   "cell_type": "code",
   "execution_count": 5,
   "id": "be5c9179-5ae9-4201-bb6f-fe647230488c",
   "metadata": {},
   "outputs": [
    {
     "name": "stdout",
     "output_type": "stream",
     "text": [
      "Requirement already satisfied: PyPDF2 in /opt/anaconda3/envs/llms/lib/python3.11/site-packages (3.0.1)\n"
     ]
    }
   ],
   "source": [
    "!pip install PyPDF2"
   ]
  },
  {
   "cell_type": "code",
   "execution_count": 6,
   "id": "3e7a62dc-4423-41ba-b129-ebdb57f34e38",
   "metadata": {},
   "outputs": [
    {
     "name": "stdout",
     "output_type": "stream",
     "text": [
      "BOSVS.pdf\n",
      "Comput Optim Appl\n",
      "DOI 10.1007/s10589-012-9519-2\n",
      "Bregman operator splitting with variable stepsize\n",
      "for total variation image reconstruction\n",
      "Yunmei Chen ·William W. Hager ·\n",
      "Maryam Yashtini ·Xiaojing Ye ·Hongchao Zhang\n",
      "Received: 25 January 2012\n",
      "© Springer Science+Business Media New York 2012\n",
      "Abstract This paper develops a Bregman operator splitting algorithm with variable\n",
      "stepsize (BOSVS) for solving problems of the form min {φ(Bu) +1/2/bardblAu−f/bardbl2\n",
      "2},\n",
      "where φmay be nonsmooth. The original Bregman Operator Splitting (BOS) algo-\n",
      "rithm employed a ﬁxed stepsize, while BOSVS uses a line search to achieve better\n",
      "efﬁciency. These schemes are applicable to total variation (TV)-based image recon-\n",
      "struction. The stepsize rule starts with a Barzilai-Borwein (BB) step, and increases\n",
      "the nominal step until a termination condition is satisﬁed. The stepsize rule is related\n",
      "This research was partly supported by National Science Foundation grants 1115568 and 1016204,\n",
      "and by Ofﬁce of Naval Research grant N00014-11-1-0068.\n",
      "Y. C h e n ·W.W. Hager ·M. Yashtini (/letter)\n",
      "Department of Mathematics, University of Florida, P.O. Box 118105, Gainesville, FL 32611-8105,\n",
      "USA\n",
      "e-mail: myashtini@uﬂ.edu\n",
      "url:http://www.math.uﬂ.edu/~myashtini\n",
      "Y. C h e n\n",
      "e-mail: yun@math.uﬂ.edu\n",
      "url:http://www.math.uﬂ.edu/~yun\n",
      "W.W. Hager\n",
      "e-mail: hager@uﬂ.edu\n",
      "url:http://www.math.uﬂ.edu/~hager\n",
      "X. Ye\n",
      "School of Mathematics, Georgia Institute of Technology, 686 Cherry Street, Atlanta,\n",
      "GA 30332-0160, USA\n",
      "e-mail: xye33@math.gatech.edu\n",
      "url:http://people.math.gatech.edu/~xye33\n",
      "H. Zhang\n",
      "Department of Mathematics, Louisiana State University, Baton Rouge, LA 70803-4918, USA\n",
      "e-mail: hozhang@math.lsu.edu\n",
      "url:https://www.math.lsu.edu/~hozhang\n",
      "\n",
      "Y . Chen et al.\n",
      "to the scheme used in SpaRSA (Sparse Reconstruction by Separable Approxima-\n",
      "tion). Global convergence of the proposed BOSVS algorithm to a solution of the op-timization problem is established. BOSVS is compared with other operator splittingschemes using partially parallel magnetic resonance image reconstruction problems.\n",
      "The experimental results indicate that the proposed BOSVS algorithm is more efﬁ-\n",
      "cient than the BOS algorithm and another split Bregman Barzilai-Borwein algorithmknown as SBB.\n",
      "Keywords Total variation image reconstruction ·Bregman operator splitting ·\n",
      "Barzilai-Borwein stepsize ·SpaRSA ·Convergence analysis ·Magnetic resonance\n",
      "imaging\n",
      "1 Introduction\n",
      "Image reconstruction has been widely applied to many applications in computer sci-\n",
      "ence and engineering. The general form for this problem minimizes a functional in-volving two terms, a ﬁdelity term Hrelated to the data and a regularization term φ:\n",
      "min\n",
      "u∈CNφ(Bu) +H(u),\n",
      "where u=(u1,...,u N)T∈CN,uiis the intensity of the i-th pixel in the image, Nis\n",
      "the number of pixels in the image, φ(·)andH(·)are convex, real-valued functions,\n",
      "φ:Cd×N→Ris possibly nondifferentiable, H:CN→Ris continuously differen-\n",
      "tiable, B∈Cd×N×N, andBuis ad×Nmatrix:\n",
      "(Bu) ij=N/summationdisplay\n",
      "k=1bijkuk\n",
      "Since φandHare ﬁnite-va\n"
     ]
    }
   ],
   "source": [
    "import requests\n",
    "from io import BytesIO\n",
    "from PyPDF2 import PdfReader\n",
    "\n",
    "headers = {\n",
    "    \"User-Agent\": \"Mozilla/5.0 (Windows NT 10.0; Win64; x64) AppleWebKit/537.36 (KHTML, like Gecko) Chrome/117.0.0.0 Safari/537.36\"\n",
    "}\n",
    "\n",
    "class Paper:\n",
    "    def __init__(self, url):\n",
    "        self.url = url\n",
    "        self.title = url.split('/')[-1]  # Using filename as the title\n",
    "        self.text = self._extract_text()\n",
    "\n",
    "    def _extract_text(self):\n",
    "        response = requests.get(self.url, headers=headers)  # 👈 Added headers here!\n",
    "        if response.status_code != 200:\n",
    "            raise Exception(f\"Failed to download the paper. Status code: {response.status_code}\")\n",
    "\n",
    "        pdf_file = BytesIO(response.content)\n",
    "        reader = PdfReader(pdf_file)\n",
    "        text = \"\"\n",
    "        for page in reader.pages:\n",
    "            page_text = page.extract_text()\n",
    "            if page_text:  # Only add if there is text extracted\n",
    "                text += page_text + \"\\n\"\n",
    "        return text\n",
    "\n",
    "paper = Paper(\"https://people.clas.ufl.edu/hager/files/BOSVS.pdf\")\n",
    "print(paper.title)\n",
    "print(paper.text[:3000])  # Print first 1000 characters to avoid too much output\n",
    "\n",
    "\n"
   ]
  },
  {
   "cell_type": "code",
   "execution_count": 7,
   "id": "3d1ded5e-4af9-448a-831c-a7932cbe147d",
   "metadata": {},
   "outputs": [],
   "source": [
    "# Define our system prompt - you can experiment with this later, changing the last sentence to 'Respond in markdown in Spanish.\"\n",
    "\n",
    "system_prompt = \"You are an assistant that analyzes the contents of a mathematics \\\n",
    "paper and provides a short concise summary, ignoring mathematics formulas. \\\n",
    "Respond in markdown.\"\n"
   ]
  },
  {
   "cell_type": "code",
   "execution_count": 8,
   "id": "a538a02c-4e7d-4b02-b193-7babda178ecc",
   "metadata": {},
   "outputs": [],
   "source": [
    "# A function that writes a User Prompt that asks for summaries of websites:\n",
    "\n",
    "def user_prompt_for(paper):\n",
    "    user_prompt = f\"You are looking at a paper titled {paper.title}\"\n",
    "    user_prompt += \"\\nThe contents of this paper is as follows; \\\n",
    "    please provide a short summary of this paper in markdown.\\\n",
    "    Eliminate the mathematics formulas. Text is long, truncating \\\n",
    "    to 4000 characters for summarization. \\n\\n\"\n",
    "    user_prompt += paper.text\n",
    "    return user_prompt"
   ]
  },
  {
   "cell_type": "markdown",
   "id": "a1c0cba0-c29b-44ba-9cbf-5a9702d5e449",
   "metadata": {},
   "source": [
    "user_prompt_for(paper)"
   ]
  },
  {
   "cell_type": "code",
   "execution_count": 9,
   "id": "df990d8b-53f3-47a1-8c93-6f3bcc4fd8d9",
   "metadata": {},
   "outputs": [],
   "source": [
    "def summarize_paper(paper):\n",
    "    paper = Paper(paper)\n",
    "    response = client.chat.completions.create(\n",
    "        model=\"gpt-4o-mini\", \n",
    "        messages=[{\"role\": \"user\", \"content\": user_prompt_for(paper)}]\n",
    "    )\n",
    "\n",
    "    return response.choices[0].message.content.strip()\n"
   ]
  },
  {
   "cell_type": "code",
   "execution_count": 10,
   "id": "7d75409e-8feb-4749-a2dc-64d0350cee38",
   "metadata": {},
   "outputs": [
    {
     "name": "stdout",
     "output_type": "stream",
     "text": [
      "Summary:\n",
      " # Summary of \"Bregman Operator Splitting with Variable Stepsize for Total Variation Image Reconstruction\"\n",
      "\n",
      "**Authors**: Yunmei Chen, William W. Hager, Maryam Yashtini, Xiaojing Ye, Hongchao Zhang  \n",
      "**Publication**: Comput Optim Appl, DOI: 10.1007/s10589-012-9519-2  \n",
      "**Date**: January 25, 2012  \n",
      "\n",
      "## Abstract\n",
      "This paper presents a novel algorithm named Bregman Operator Splitting with Variable Stepsize (BOSVS) for minimizing optimization problems of the form involving nonsmooth functions. The traditional Bregman Operator Splitting (BOS) method utilizes a fixed stepsize, while BOSVS adopts a line search strategy to improve efficiency, particularly in applications related to total variation-based image reconstruction. The algorithm begins with a Barzilai-Borwein (BB) step and adapts the stepsize until a stopping condition is met. The performance of this approach is evaluated against other operator splitting methods, particularly in the context of partially parallel magnetic resonance imaging (MRI), where BOSVS proved to be more efficient compared to the fixed stepsize and another method known as SBB (Split Bregman Barzilai-Borwein).\n",
      "\n",
      "## Introduction\n",
      "The paper discusses the significance of image reconstruction techniques in computer science and engineering. The methodology focuses on minimizing a functional which consists of a fidelity term associated with data and a regularization term. The specific problem tackled involves total variation (TV) regularization, which is notably effective in preserving image edges while reducing noise.\n",
      "\n",
      "## Proposed Algorithm\n",
      "The BOSVS algorithm builds on principles found in previous works by combining variable splitting with the alternating direction method of multipliers. The innovation lies in employing a line search for the stepsize, which can lead to faster convergence and more reliable results than fixed stepsize methods. The proposed algorithm includes an adjustment for proximal terms and optimizes the objective function iteratively.\n",
      "\n",
      "## Convergence Analysis\n",
      "The authors establish a framework for the global convergence of the BOSVS algorithm. They provide theoretical insights into the selection of stepsizes and show that, under specific conditions, the algorithm converges to a solution effectively. \n",
      "\n",
      "## Numerical Experiments\n",
      "BOSVS is tested using three datasets from partially parallel MRI systems. The experimental results highlight the advantages of the algorithm, which demonstrate faster convergence, lower objective function values, and reduced computation time compared to existing algorithms. The results affirm the algorithm's robustness and effectiveness in large-scale imaging problems.\n",
      "\n",
      "## Conclusion\n",
      "The Bregman Operator Splitting with Variable Stepsize (BOSVS) introduces an improved method for total variation image reconstruction, showcasing better performance over traditional approaches. The research supports the potential of variable stepsize techniques to enhance optimization in imaging applications, making the BOSVS algorithm a promising tool in the field of medical imaging and signal processing.\n",
      "\n",
      "## Keywords\n",
      "Total variation image reconstruction, Bregman operator splitting, variable stepsize, convergence analysis, magnetic resonance imaging.\n"
     ]
    }
   ],
   "source": [
    "paper_link = \"https://people.clas.ufl.edu/hager/files/BOSVS.pdf\"\n",
    "\n",
    "summary = summarize_paper(paper_link)\n",
    "print(\"Summary:\\n\", summary)\n",
    "\n"
   ]
  },
  {
   "cell_type": "markdown",
   "id": "a79ea923-399a-4359-a558-63a307bc0819",
   "metadata": {},
   "source": [
    "# Excellent JOB! "
   ]
  }
 ],
 "metadata": {
  "kernelspec": {
   "display_name": "Python 3 (ipykernel)",
   "language": "python",
   "name": "python3"
  },
  "language_info": {
   "codemirror_mode": {
    "name": "ipython",
    "version": 3
   },
   "file_extension": ".py",
   "mimetype": "text/x-python",
   "name": "python",
   "nbconvert_exporter": "python",
   "pygments_lexer": "ipython3",
   "version": "3.11.12"
  }
 },
 "nbformat": 4,
 "nbformat_minor": 5
}
